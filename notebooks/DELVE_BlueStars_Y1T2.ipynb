{
 "cells": [
  {
   "cell_type": "code",
   "execution_count": null,
   "metadata": {},
   "outputs": [],
   "source": [
    "__author__ = 'Alex Drlica-Wagner <kadrlica@fnal.gov>' # single string; emails in <>\n",
    "__version__ = '20190816' # yyyymmdd; version datestamp of this notebook\n",
    "__datasets__ = ['delve']  # datasets used in this notebook; for available datasets, see cell \"Available datasets in Data Lab\" further below\n",
    "__keywords__ = [''], # keywords relevant to this notebook, e.g. ['science case','dwarf galaxies'] Use only keywords from the master list: https://github.com/noaodatalab/notebooks-latest/blob/master/internal/keywords.txt"
   ]
  },
  {
   "cell_type": "code",
   "execution_count": null,
   "metadata": {},
   "outputs": [],
   "source": [
    "%matplotlib inline\n",
    "from getpass import getpass\n",
    "\n",
    "import multiprocessing\n",
    "import glob\n",
    "# This is vestigial\n",
    "import logging\n",
    "logger = logging.getLogger()\n",
    "\n",
    "import numpy as np\n",
    "import healpy as hp\n",
    "import pylab as plt\n",
    "import fitsio\n",
    "from matplotlib.colors import LogNorm\n",
    "\n",
    "# Data Lab\n",
    "from dl import authClient as ac, queryClient as qc, storeClient as sc"
   ]
  },
  {
   "cell_type": "code",
   "execution_count": null,
   "metadata": {},
   "outputs": [],
   "source": [
    "token = ac.login(input(\"Enter user name: (+ENTER) \"),getpass(\"Enter password: (+ENTER) \"))"
   ]
  },
  {
   "cell_type": "code",
   "execution_count": null,
   "metadata": {},
   "outputs": [],
   "source": [
    "token"
   ]
  },
  {
   "cell_type": "code",
   "execution_count": null,
   "metadata": {},
   "outputs": [],
   "source": [
    "def select(data):\n",
    "    \"\"\" Select data from a catalog array. The array must have columns:\n",
    "    MAG_PSF_G, MAG_PSF_R, EXTINCTION_G, EXTINCTION_R, SPREAD_MODEL_R\n",
    "\n",
    "    Parameters:\n",
    "    -----------\n",
    "    data : input array for selection\n",
    "    \n",
    "    Returns:\n",
    "    --------\n",
    "    sel  : boolean selection\n",
    "    \"\"\"\n",
    "    # De-redened magnitudes\n",
    "    g_sfd = (data['MAG_PSF_G']-data['EXTINCTION_G'])\n",
    "    r_sfd = (data['MAG_PSF_R']-data['EXTINCTION_R'])\n",
    "\n",
    "    # Detection in g,r cut\n",
    "    sel  = (g_sfd < 30) & (r_sfd < 30)\n",
    "    # Color cut\n",
    "    sel &= (g_sfd - r_sfd) < 0.3\n",
    "    # Star-Galaxy separation\n",
    "    sel &= (np.abs(data['SPREAD_MODEL_R']) < 0.003)\n",
    "\n",
    "    return sel\n",
    "    \n",
    "def load(args):\n",
    "    \"\"\" Load a catalog from a single healpix file. \n",
    "    \n",
    "    Parameters:\n",
    "    -----------\n",
    "    args : tuple of (infile,columns) passed to fitsio.read\n",
    "    \n",
    "    Returns:\n",
    "    --------\n",
    "    data : loaded array with selection applied\n",
    "    \"\"\"\n",
    "    infile,columns = args\n",
    "    logger.debug(\"Loading %s...\"%infile)\n",
    "    data = fitsio.read(infile,columns=columns)\n",
    "    # operations on data\n",
    "    return data[select(data)]\n",
    "\n",
    "def load_infiles(infiles,columns=None,multiproc=False):\n",
    "    \"\"\" Load multiple input files.\n",
    "    \n",
    "    Parameters:\n",
    "    -----------\n",
    "    infiles   : list of input fits files\n",
    "    columns   : list of columns to load\n",
    "    multiproc : number of cores to execute on\n",
    "    \n",
    "    Returns:\n",
    "    --------\n",
    "    data : return numpy array \n",
    "    \"\"\"\n",
    "    if isinstance(infiles,str):\n",
    "        infiles = [infiles]\n",
    "\n",
    "    logger.debug(\"Loading %s files...\"%len(infiles))\n",
    "\n",
    "    args = list(zip(infiles,len(infiles)*[columns]))\n",
    "\n",
    "    if multiproc:\n",
    "        from multiprocessing import Pool\n",
    "        processes = multiproc if multiproc > 0 else None\n",
    "        p = Pool(processes,maxtasksperchild=1)\n",
    "        out = p.map(load,args)\n",
    "    else:\n",
    "        out = [load(arg) for arg in args]\n",
    "\n",
    "    dtype = out[0].dtype\n",
    "    for i,d in enumerate(out):\n",
    "        if d.dtype != dtype: \n",
    "            # ADW: Not really safe...\n",
    "            logger.warn(\"Casting input data to same type.\")\n",
    "            out[i] = d.astype(dtype)\n",
    "\n",
    "    logger.debug('Concatenating arrays...')\n",
    "    return np.concatenate(out)"
   ]
  },
  {
   "cell_type": "code",
   "execution_count": null,
   "metadata": {},
   "outputs": [],
   "source": [
    "filename = 'delve_wide_blue_stars_y1t2.fits.gz'\n",
    "if os.path.exists(filename):\n",
    "    data = fitsio.read(filename)\n",
    "else:\n",
    "    files = sorted(glob.glob('../DELVE/y1t2/*.fits'))\n",
    "    columns = ['RA','DEC','MAG_PSF_G','EXTINCTION_G','MAG_PSF_R','EXTINCTION_R','SPREAD_MODEL_R']\n",
    "    data = load_infiles(files,columns=columns,multiproc=16)\n",
    "    fitsio.write(filename,data)"
   ]
  },
  {
   "cell_type": "code",
   "execution_count": null,
   "metadata": {},
   "outputs": [],
   "source": [
    "nside = 64\n",
    "#hpxmap = np.zeros(hp.nside2npix(nside))\n",
    "hpxmap = hp.UNSEEN*np.ones(hp.nside2npix(nside))\n",
    "pixel = hp.ang2pix(nside,data['RA'],data['DEC'],lonlat=True)\n",
    "pix, cts = np.unique(pixel,return_counts=True)\n",
    "hpxmap[pix] = cts"
   ]
  },
  {
   "cell_type": "code",
   "execution_count": null,
   "metadata": {},
   "outputs": [],
   "source": [
    "vmin,vmax = np.percentile(hpxmap[hpxmap>0],[5,95])\n",
    "hp.mollview(hpxmap,min=vmin,max=vmax,rot=(180, 0, 0))\n",
    "ra1,dec1 = (223,-5.5)\n",
    "ra2,dec2 = (160,-5.5)\n",
    "hp.projscatter(ra1,dec1,lonlat=True,c='r')\n",
    "hp.projscatter(ra2,dec2,lonlat=True,c='orange')\n",
    "hp.graticule()"
   ]
  },
  {
   "cell_type": "code",
   "execution_count": null,
   "metadata": {},
   "outputs": [],
   "source": [
    "hp.cartview(hpxmap,lonra=[-180,-120],latra=[-30,10],max=5000)\n",
    "hp.projscatter(ra1,dec1,lonlat=True,color='r')\n",
    "hp.graticule()"
   ]
  },
  {
   "cell_type": "code",
   "execution_count": null,
   "metadata": {},
   "outputs": [],
   "source": [
    "def angsep(lon1,lat1,lon2,lat2):\n",
    "    \"\"\"\n",
    "    Angular separation (deg) between two sky coordinates.\n",
    "    Borrowed from astropy (www.astropy.org)\n",
    "    Notes\n",
    "    -----\n",
    "    The angular separation is calculated using the Vincenty formula [1],\n",
    "    which is slighly more complex and computationally expensive than\n",
    "    some alternatives, but is stable at at all distances, including the\n",
    "    poles and antipodes.\n",
    "    [1] http://en.wikipedia.org/wiki/Great-circle_distance\n",
    "    \"\"\"\n",
    "    lon1,lat1 = np.radians([lon1,lat1])\n",
    "    lon2,lat2 = np.radians([lon2,lat2])\n",
    "    \n",
    "    sdlon = np.sin(lon2 - lon1)\n",
    "    cdlon = np.cos(lon2 - lon1)\n",
    "    slat1 = np.sin(lat1)\n",
    "    slat2 = np.sin(lat2)\n",
    "    clat1 = np.cos(lat1)\n",
    "    clat2 = np.cos(lat2)\n",
    "\n",
    "    num1 = clat2 * sdlon\n",
    "    num2 = clat1 * slat2 - slat1 * clat2 * cdlon\n",
    "    denominator = slat1 * slat2 + clat1 * clat2 * cdlon\n",
    "\n",
    "    return np.degrees(np.arctan2(np.hypot(num1,num2), denominator))"
   ]
  },
  {
   "cell_type": "code",
   "execution_count": null,
   "metadata": {},
   "outputs": [],
   "source": [
    "sep = angsep(ra1,dec1,data['RA'],data['DEC'])\n",
    "d1 = data[sep < 10]"
   ]
  },
  {
   "cell_type": "code",
   "execution_count": null,
   "metadata": {},
   "outputs": [],
   "source": [
    "sep = angsep(ra2,dec2,data['RA'],data['DEC'])\n",
    "d2 = data[sep < 10]"
   ]
  },
  {
   "cell_type": "code",
   "execution_count": null,
   "metadata": {},
   "outputs": [],
   "source": [
    "g_sfd = (d1['MAG_PSF_G'] - d1['EXTINCTION_G']) \n",
    "r_sfd = (d1['MAG_PSF_R'] - d1['EXTINCTION_R'])\n",
    "bins = [np.linspace(-0.5,0.3),np.linspace(16,24)]\n",
    "n1,b,e,p = plt.hist2d(g_sfd - r_sfd,g_sfd,bins=bins,norm=LogNorm(),vmax=2e3)\n",
    "plt.colorbar()\n",
    "plt.annotate(\"%.1f, %.1f\"%(ra1,dec1),(0.1,0.9),xycoords='axes fraction',\n",
    "            bbox=dict(facecolor='w'))\n",
    "plt.xlabel(\"g - r\"); plt.ylabel(\"g\")\n",
    "plt.gca().invert_yaxis()"
   ]
  },
  {
   "cell_type": "code",
   "execution_count": null,
   "metadata": {},
   "outputs": [],
   "source": [
    "g_sfd = (d2['MAG_PSF_G'] - d2['EXTINCTION_G']) \n",
    "r_sfd = (d2['MAG_PSF_R'] - d2['EXTINCTION_R'])\n",
    "bins = [np.linspace(-0.5,0.3),np.linspace(16,24)]\n",
    "n2,b,e,p = plt.hist2d(g_sfd - r_sfd,g_sfd,bins=bins,norm=LogNorm(),vmax=2e3)\n",
    "plt.colorbar()\n",
    "plt.annotate(\"%.1f, %.1f\"%(ra2,dec2),(0.1,0.9),xycoords='axes fraction',\n",
    "            bbox=dict(facecolor='w'))\n",
    "plt.xlabel(\"g - r\"); plt.ylabel(\"g\")\n",
    "plt.gca().invert_yaxis()"
   ]
  },
  {
   "cell_type": "code",
   "execution_count": null,
   "metadata": {},
   "outputs": [],
   "source": [
    "plt.pcolormesh(bins[0],bins[1],(n1-n2).T,norm=LogNorm())\n",
    "plt.colorbar()\n",
    "plt.xlabel(\"g - r\"); plt.ylabel(\"g\")\n",
    "plt.gca().invert_yaxis()"
   ]
  },
  {
   "cell_type": "code",
   "execution_count": null,
   "metadata": {},
   "outputs": [],
   "source": [
    "#filename = 'delve_wide_blue_stars_y1t2.fits.gz'\n",
    "#fitsio.write(filename,data)\n",
    "\n",
    "#hpxmap_filename = 'delve_wide_blue_stars_y1t2_ring_n%i.fits.gz'%nside\n",
    "#hp.write_map(hpxmap_filename,hpxmap)"
   ]
  },
  {
   "cell_type": "markdown",
   "metadata": {},
   "source": [
    "# To copy the notebook somewhere that others can access\n",
    "```\n",
    "sc.put('DELVE_BlueStars_Y1T2.ipynb','vos://public/')\n",
    "```"
   ]
  },
  {
   "cell_type": "code",
   "execution_count": null,
   "metadata": {},
   "outputs": [],
   "source": [
    "#sc.put('delve_wide_blue_stars_y1t2_ring_n%i.fits.gz'%nside,'vos://public/')"
   ]
  },
  {
   "cell_type": "code",
   "execution_count": null,
   "metadata": {},
   "outputs": [],
   "source": [
    "#sc.put(fr='./delve_wide_blue_stars_y1t2_ring_n64.fits.gz', to='vos://public')"
   ]
  },
  {
   "cell_type": "code",
   "execution_count": null,
   "metadata": {},
   "outputs": [],
   "source": [
    "#sc.put(fr='DELVE_BlueStars_Y1T2.ipynb', to='vos://public')"
   ]
  },
  {
   "cell_type": "code",
   "execution_count": null,
   "metadata": {},
   "outputs": [],
   "source": [
    "#sc.ls('vos://public')"
   ]
  },
  {
   "cell_type": "code",
   "execution_count": null,
   "metadata": {},
   "outputs": [],
   "source": [
    "#sc.ls('kadrlica://public')"
   ]
  },
  {
   "cell_type": "code",
   "execution_count": null,
   "metadata": {},
   "outputs": [],
   "source": [
    "#sc.get(fr='kadrlica://public/delve_wide_blue_stars_y1t2.fits.gz', to='./tmp.fits.gz')"
   ]
  }
 ],
 "metadata": {
  "kernelspec": {
   "display_name": "Python 2",
   "language": "python",
   "name": "python2"
  },
  "language_info": {
   "codemirror_mode": {
    "name": "ipython",
    "version": 2
   },
   "file_extension": ".py",
   "mimetype": "text/x-python",
   "name": "python",
   "nbconvert_exporter": "python",
   "pygments_lexer": "ipython2",
   "version": "2.7.15"
  }
 },
 "nbformat": 4,
 "nbformat_minor": 2
}
