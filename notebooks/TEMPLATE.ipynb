{
 "cells": [
  {
   "cell_type": "markdown",
   "metadata": {},
   "source": [
    "Instructions: Start by fill in the header in the cell right below here.  The rest is just a suggested format, but you can really do whatever you want.\n",
    "\n",
    "Some advice for keeping the notebook and github repository under control and sharable:\n",
    "* Never store large data files (> say a few hundred kb) in github. If possible, have your notebook download its own data, or if that's impractical, note clearly in the header how to get the data needed for the notebook\n",
    "* Every time an output plot changes, when you commit that to git it will save the whole plot, which can easily be hundreds of KB or even MB. So try not to make lots of commits with minor changes to plots.\n",
    "* Before committing your notebook, you may want to \"Kernel->Restart & Run All\" - that will ensure your notebook actually executes from start-to-finish. Sometimes this is impractical (e.g., some code is long-running and you don't want to wait for it), but when possible try to do this.\n",
    "* Try to add narrative text in your notebook to explain the \"big picture\" as it evolves - that way other team members can more easily follow your thinking.\n",
    "* If your notebook involves some unusual requirements like a custom python script, be sure to not where it can be found (or just check it into this repo at the same time as the notebook).\n",
    "\n",
    "Once you've read this, feel free to delete this cell (unless you want it as a reminder)."
   ]
  },
  {
   "cell_type": "markdown",
   "metadata": {},
   "source": [
    "# Example Notebook\n",
    "\n",
    "<img src=\"delve-logo-bigtxt.png\" alt=\"DELVE Logo\" width=\"10%\" style=\"float: left;\"/>\n",
    "\n",
    "Primary Author(s):\n",
    "Erik/c {something}, Alex {something}, and David {something}\n",
    "\n",
    "\n",
    "Requirements: {delete this if there are no unusual requirements}\n",
    "This notebook requires the unusual python package XXX, and assumes that the data file YYY is present in location ZZZ"
   ]
  },
  {
   "cell_type": "markdown",
   "metadata": {},
   "source": [
    "## Initial Imports"
   ]
  },
  {
   "cell_type": "code",
   "execution_count": null,
   "metadata": {},
   "outputs": [],
   "source": [
    "import os\n",
    "\n",
    "import numpy as np\n",
    "\n",
    "from astropy.io import fits\n",
    "\n",
    "%matplotlib inline\n",
    "from matplotlib import pyplot as plt"
   ]
  },
  {
   "cell_type": "markdown",
   "metadata": {},
   "source": [
    "## Science thing 1\n",
    "\n",
    "Here's a description of what I'm doing in this part of the notebook"
   ]
  },
  {
   "cell_type": "code",
   "execution_count": null,
   "metadata": {},
   "outputs": [],
   "source": [
    "... code ..."
   ]
  },
  {
   "cell_type": "code",
   "execution_count": null,
   "metadata": {},
   "outputs": [],
   "source": [
    "... code ..."
   ]
  },
  {
   "cell_type": "code",
   "execution_count": null,
   "metadata": {},
   "outputs": [],
   "source": [
    "... code ..."
   ]
  },
  {
   "cell_type": "markdown",
   "metadata": {},
   "source": [
    "## Science thing 2\n",
    "\n",
    "Here's a description of what I'm doing in this part of the notebook"
   ]
  },
  {
   "cell_type": "code",
   "execution_count": null,
   "metadata": {},
   "outputs": [],
   "source": [
    "... code ..."
   ]
  },
  {
   "cell_type": "code",
   "execution_count": null,
   "metadata": {},
   "outputs": [],
   "source": [
    "... code ..."
   ]
  },
  {
   "cell_type": "code",
   "execution_count": null,
   "metadata": {},
   "outputs": [],
   "source": [
    "... code ..."
   ]
  },
  {
   "cell_type": "markdown",
   "metadata": {},
   "source": [
    "## Conclusion\n",
    "\n",
    "Here's what we learned in this notebook... so far!"
   ]
  }
 ],
 "metadata": {
  "kernelspec": {
   "display_name": "Python 3",
   "language": "python",
   "name": "python3"
  },
  "language_info": {
   "codemirror_mode": {
    "name": "ipython",
    "version": 3
   },
   "file_extension": ".py",
   "mimetype": "text/x-python",
   "name": "python",
   "nbconvert_exporter": "python",
   "pygments_lexer": "ipython3",
   "version": "3.6.7"
  }
 },
 "nbformat": 4,
 "nbformat_minor": 2
}
